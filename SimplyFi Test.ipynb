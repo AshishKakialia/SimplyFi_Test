{
 "cells": [
  {
   "cell_type": "code",
   "execution_count": 20,
   "id": "64901bb5",
   "metadata": {},
   "outputs": [
    {
     "name": "stdout",
     "output_type": "stream",
     "text": [
      "enter number of test case: 3\n",
      "enter N and K: 4 10\n",
      "enter N values: 2 13 4 16\n",
      "enter N and K: 5 8\n",
      "enter N values: 9 3 8 8 4\n",
      "enter N and K: 4 6\n",
      "enter N values: 1 2 3 4\n",
      "2\n",
      "1\n",
      "0\n"
     ]
    }
   ],
   "source": [
    "def ques2():\n",
    "    test_cases = eval(input('enter number of test case: '))\n",
    "    N_K = {}\n",
    "    N_values = {}\n",
    "    for test_case in range(test_cases):\n",
    "        # First line input\n",
    "        fisrt_input = input('enter N and K: ')\n",
    "        fisrt_input = fisrt_input.split(' ')\n",
    "        N_K.update({test_case:{'N':int(fisrt_input[0]), 'K':int(fisrt_input[1])}})\n",
    "        \n",
    "        # Second line input\n",
    "        second_input = input('enter N values: ')\n",
    "        second_input = second_input.split(' ')\n",
    "        N_values.update({test_case:{'N_values':second_input}})\n",
    "        \n",
    "    # Loop for test case\n",
    "    for test_case in range(test_cases):\n",
    "        shot = 0\n",
    "        # Loop iteration = N (number of players)\n",
    "        for n_k in range(N_K[test_case]['N']): \n",
    "            # compare given height with players height\n",
    "            if int(N_values[test_case]['N_values'][n_k]) > N_K[test_case]['K']:\n",
    "                shot += 1\n",
    "        print(shot)\n",
    "ques2()"
   ]
  },
  {
   "cell_type": "code",
   "execution_count": 35,
   "id": "e744e247",
   "metadata": {},
   "outputs": [
    {
     "name": "stdout",
     "output_type": "stream",
     "text": [
      "504678\n",
      "5,04,678\n"
     ]
    }
   ],
   "source": [
    "def ques1():\n",
    "    numbers = list(input())\n",
    "    length = len(numbers)\n",
    "    for number in range(3, length, 2):\n",
    "        numbers.insert(length - number, ',')\n",
    "    numbers = ''.join(numbers)\n",
    "    print(numbers)\n",
    "ques1()"
   ]
  },
  {
   "cell_type": "code",
   "execution_count": 36,
   "id": "ae116a6b",
   "metadata": {},
   "outputs": [
    {
     "ename": "SyntaxError",
     "evalue": "invalid syntax (2830201818.py, line 1)",
     "output_type": "error",
     "traceback": [
      "\u001b[1;36m  Input \u001b[1;32mIn [36]\u001b[1;36m\u001b[0m\n\u001b[1;33m    git init\u001b[0m\n\u001b[1;37m        ^\u001b[0m\n\u001b[1;31mSyntaxError\u001b[0m\u001b[1;31m:\u001b[0m invalid syntax\n"
     ]
    }
   ],
   "source": []
  },
  {
   "cell_type": "code",
   "execution_count": null,
   "id": "0eed6260",
   "metadata": {},
   "outputs": [],
   "source": []
  }
 ],
 "metadata": {
  "kernelspec": {
   "display_name": "Python 3 (ipykernel)",
   "language": "python",
   "name": "python3"
  },
  "language_info": {
   "codemirror_mode": {
    "name": "ipython",
    "version": 3
   },
   "file_extension": ".py",
   "mimetype": "text/x-python",
   "name": "python",
   "nbconvert_exporter": "python",
   "pygments_lexer": "ipython3",
   "version": "3.9.12"
  }
 },
 "nbformat": 4,
 "nbformat_minor": 5
}
